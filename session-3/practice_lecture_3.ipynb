{
 "cells": [
  {
   "cell_type": "code",
   "execution_count": 3,
   "metadata": {
    "collapsed": false
   },
   "outputs": [
    {
     "data": {
      "text/html": [
       "<style> .rendered_html code { \n",
       "    padding: 2px 4px;\n",
       "    color: #c7254e;\n",
       "    background-color: #f9f2f4;\n",
       "    border-radius: 4px;\n",
       "} </style>"
      ],
      "text/plain": [
       "<IPython.core.display.HTML object>"
      ]
     },
     "execution_count": 3,
     "metadata": {},
     "output_type": "execute_result"
    }
   ],
   "source": [
    "%matplotlib inline\n",
    "#%pylab osx\n",
    "import tensorflow as tf\n",
    "import numpy as np\n",
    "import matplotlib.pyplot as plt\n",
    "import matplotlib.colors as colors\n",
    "import matplotlib.cm as cmx\n",
    "\n",
    "from libs.utils import montage\n",
    "from libs import gif\n",
    "import IPython.display as ipyd\n",
    "\n",
    "plt.style.use('ggplot')\n",
    "\n",
    "from IPython.core.display import HTML\n",
    "HTML(\"\"\"<style> .rendered_html code { \n",
    "    padding: 2px 4px;\n",
    "    color: #c7254e;\n",
    "    background-color: #f9f2f4;\n",
    "    border-radius: 4px;\n",
    "} </style>\"\"\")"
   ]
  },
  {
   "cell_type": "code",
   "execution_count": 2,
   "metadata": {
    "collapsed": false
   },
   "outputs": [
    {
     "name": "stdout",
     "output_type": "stream",
     "text": [
      "Extracting MNIST_data/train-images-idx3-ubyte.gz\n",
      "Extracting MNIST_data/train-labels-idx1-ubyte.gz\n",
      "Extracting MNIST_data/t10k-images-idx3-ubyte.gz\n",
      "Extracting MNIST_data/t10k-labels-idx1-ubyte.gz\n"
     ]
    }
   ],
   "source": [
    "from libs.datasets import MNIST\n",
    "ds =MNIST()"
   ]
  },
  {
   "cell_type": "code",
   "execution_count": 3,
   "metadata": {
    "collapsed": false
   },
   "outputs": [
    {
     "name": "stdout",
     "output_type": "stream",
     "text": [
      "(70000, 784)\n"
     ]
    }
   ],
   "source": [
    "print(ds.X.shape)"
   ]
  },
  {
   "cell_type": "code",
   "execution_count": 4,
   "metadata": {
    "collapsed": false
   },
   "outputs": [
    {
     "data": {
      "text/plain": [
       "<matplotlib.image.AxesImage at 0x11ea57668>"
      ]
     },
     "execution_count": 4,
     "metadata": {},
     "output_type": "execute_result"
    }
   ],
   "source": [
    "plt.imshow(ds.X[0].reshape((28,28)))"
   ]
  },
  {
   "cell_type": "code",
   "execution_count": 5,
   "metadata": {
    "collapsed": false
   },
   "outputs": [
    {
     "data": {
      "text/plain": [
       "<matplotlib.image.AxesImage at 0x112565a90>"
      ]
     },
     "execution_count": 5,
     "metadata": {},
     "output_type": "execute_result"
    }
   ],
   "source": [
    "imgs = ds.X[:1000].reshape((-1, 28,28))\n",
    "plt.imshow(montage(imgs), cmap='gray')"
   ]
  },
  {
   "cell_type": "code",
   "execution_count": 6,
   "metadata": {
    "collapsed": false
   },
   "outputs": [
    {
     "data": {
      "text/plain": [
       "<matplotlib.image.AxesImage at 0x114388860>"
      ]
     },
     "execution_count": 6,
     "metadata": {},
     "output_type": "execute_result"
    }
   ],
   "source": [
    "mean_img = np.mean(ds.X, axis=0)\n",
    "plt.figure()\n",
    "plt.imshow(mean_img.reshape((28,28)), cmap='gray')"
   ]
  },
  {
   "cell_type": "code",
   "execution_count": 36,
   "metadata": {
    "collapsed": false
   },
   "outputs": [
    {
     "data": {
      "text/plain": [
       "<matplotlib.image.AxesImage at 0x1130e9198>"
      ]
     },
     "execution_count": 36,
     "metadata": {},
     "output_type": "execute_result"
    },
    {
     "data": {
      "image/png": "[encoded data removed]",
      "text/plain": [
       "<matplotlib.figure.Figure at 0x112554d30>"
      ]
     },
     "metadata": {},
     "output_type": "display_data"
    }
   ],
   "source": [
    "std_img = np.std(ds.X, axis= 0)\n",
    "\n",
    "plt.figure()\n",
    "plt.imshow(std_img.reshape(28,28))"
   ]
  },
  {
   "cell_type": "code",
   "execution_count": 8,
   "metadata": {
    "collapsed": true
   },
   "outputs": [],
   "source": [
    "tf.reset_default_graph()"
   ]
  },
  {
   "cell_type": "code",
   "execution_count": 9,
   "metadata": {
    "collapsed": true
   },
   "outputs": [],
   "source": [
    "dimensions = [784, 512, 256,128, 64]"
   ]
  },
  {
   "cell_type": "code",
   "execution_count": 10,
   "metadata": {
    "collapsed": true
   },
   "outputs": [],
   "source": [
    "n_features = ds.X.shape[1]"
   ]
  },
  {
   "cell_type": "code",
   "execution_count": 11,
   "metadata": {
    "collapsed": true
   },
   "outputs": [],
   "source": [
    "X = tf.placeholder(tf.float32, [None, n_features])"
   ]
  },
  {
   "cell_type": "code",
   "execution_count": 12,
   "metadata": {
    "collapsed": false
   },
   "outputs": [],
   "source": [
    "current_input = X\n",
    "n_input = n_features\n",
    "Ws = []\n",
    "bs = []\n",
    "\n",
    "for layer_i, n_output in enumerate(dimensions[1:]):\n",
    "    \n",
    "    with tf.variable_scope(\"encoder/layer/{}\".format(layer_i)):\n",
    "        W = tf.get_variable(\n",
    "            name='W',\n",
    "            shape=[n_input, n_output],\n",
    "            initializer= tf.random_normal_initializer(mean=0.0, stddev=0.02))\n",
    "        \n",
    "        b = tf.get_variable(\n",
    "            name='b',\n",
    "            shape=[n_output],\n",
    "            initializer= tf.constant_initializer())\n",
    "        \n",
    "        h = tf.add(tf.matmul(current_input, W), b)\n",
    "        \n",
    "        current_input = tf.nn.relu(h)\n",
    "        \n",
    "        Ws.append(W)\n",
    "        n_input = n_output"
   ]
  },
  {
   "cell_type": "code",
   "execution_count": 13,
   "metadata": {
    "collapsed": false
   },
   "outputs": [
    {
     "name": "stdout",
     "output_type": "stream",
     "text": [
      "(?, 64)\n"
     ]
    }
   ],
   "source": [
    "print(current_input.get_shape())"
   ]
  },
  {
   "cell_type": "code",
   "execution_count": 14,
   "metadata": {
    "collapsed": false
   },
   "outputs": [
    {
     "name": "stdout",
     "output_type": "stream",
     "text": [
      "[64, 128, 256, 512, 784]\n"
     ]
    }
   ],
   "source": [
    "Ws = Ws[::-1]\n",
    "\n",
    "dimensions = dimensions[::-1]\n",
    "print(dimensions)"
   ]
  },
  {
   "cell_type": "code",
   "execution_count": 15,
   "metadata": {
    "collapsed": false
   },
   "outputs": [],
   "source": [
    "for layer_i, n_output in enumerate(dimensions[1:]):\n",
    "    \n",
    "    with tf.variable_scope(\"decoder/layer/{}\".format(layer_i)):\n",
    "        W = tf.transpose(Ws[layer_i])\n",
    "        b = tf.get_variable(\n",
    "                name='b',\n",
    "                shape=[n_output],\n",
    "                initializer=tf.constant_initializer())\n",
    "        h = tf.add(tf.matmul(current_input, W),b)\n",
    "        \n",
    "        current_input = tf.nn.relu(h)\n",
    "        \n",
    "        n_input = n_output\n",
    "        \n",
    "        "
   ]
  },
  {
   "cell_type": "code",
   "execution_count": 16,
   "metadata": {
    "collapsed": true
   },
   "outputs": [],
   "source": [
    "Y = current_input"
   ]
  },
  {
   "cell_type": "code",
   "execution_count": 17,
   "metadata": {
    "collapsed": false
   },
   "outputs": [
    {
     "name": "stdout",
     "output_type": "stream",
     "text": [
      "(?,)\n"
     ]
    }
   ],
   "source": [
    "cost = tf.reduce_sum(tf.squared_difference(X, Y), 1)\n",
    "print(cost.get_shape())"
   ]
  },
  {
   "cell_type": "code",
   "execution_count": 18,
   "metadata": {
    "collapsed": true
   },
   "outputs": [],
   "source": [
    "cost = tf.reduce_mean(cost)"
   ]
  },
  {
   "cell_type": "code",
   "execution_count": 19,
   "metadata": {
    "collapsed": true
   },
   "outputs": [],
   "source": [
    "learning_rate = 0.0001\n",
    "optimizer = tf.train.AdamOptimizer(learning_rate).minimize(cost)"
   ]
  },
  {
   "cell_type": "code",
   "execution_count": 20,
   "metadata": {
    "collapsed": true
   },
   "outputs": [],
   "source": [
    "sess = tf.Session()\n",
    "sess.run(tf.global_variables_initializer())"
   ]
  },
  {
   "cell_type": "code",
   "execution_count": 21,
   "metadata": {
    "collapsed": false,
    "scrolled": true
   },
   "outputs": [
    {
     "name": "stdout",
     "output_type": "stream",
     "text": [
      "0 43.0955\n",
      "1 39.9587\n",
      "2 36.7251\n",
      "3 35.3313\n",
      "4 35.6194\n",
      "5 33.0402\n",
      "6 32.003\n",
      "7 31.55\n",
      "8 31.9492\n",
      "9 31.3627\n"
     ]
    }
   ],
   "source": [
    "batch_size = 100\n",
    "n_epochs = 10\n",
    "\n",
    "examples = ds.X[:100]\n",
    "\n",
    "imgs = []\n",
    "fig, ax = plt.subplots(1, 1)\n",
    "for epoch_i in range(n_epochs):\n",
    "    for batch_X, _ in ds.train. next_batch():\n",
    "        sess.run(optimizer, feed_dict = {X: batch_X - mean_img})\n",
    "    recon = sess.run(Y, feed_dict = {X: examples - mean_img})\n",
    "    recon = np.clip((recon+mean_img).reshape((-1,28,28)), 0, 255)\n",
    "    img_i = montage(recon).astype(np.uint8)\n",
    "    imgs.append(img_i)\n",
    "    ax.imshow(img_i, cmap='gray')\n",
    "    fig.canvas.draw()\n",
    "    print(epoch_i, sess.run(cost, feed_dict={X: batch_X - mean_img}))\n"
   ]
  },
  {
   "cell_type": "code",
   "execution_count": 22,
   "metadata": {
    "collapsed": false
   },
   "outputs": [
    {
     "data": {
      "text/plain": [
       "<matplotlib.animation.ArtistAnimation at 0x11564fa58>"
      ]
     },
     "execution_count": 22,
     "metadata": {},
     "output_type": "execute_result"
    }
   ],
   "source": [
    "gif.build_gif(imgs, saveto='ae.gif', cmap='gray')"
   ]
  },
  {
   "cell_type": "code",
   "execution_count": 23,
   "metadata": {
    "collapsed": false
   },
   "outputs": [
    {
     "data": {
      "text/plain": [
       "<matplotlib.image.AxesImage at 0x11558c080>"
      ]
     },
     "execution_count": 23,
     "metadata": {},
     "output_type": "execute_result"
    }
   ],
   "source": [
    "plt.imshow(imgs[9],cmap='gray')"
   ]
  },
  {
   "cell_type": "code",
   "execution_count": 24,
   "metadata": {
    "collapsed": false
   },
   "outputs": [
    {
     "data": {
      "text/html": [
       "<img src=\"ae.gif?0.7423001412908403\" width=\"500\" height=\"500\"/>"
      ],
      "text/plain": [
       "<IPython.core.display.Image object>"
      ]
     },
     "execution_count": 24,
     "metadata": {},
     "output_type": "execute_result"
    }
   ],
   "source": [
    "ipyd.Image(url='ae.gif?{}'.format(np.random.rand()),\n",
    "          height=500, width=500)"
   ]
  },
  {
   "cell_type": "code",
   "execution_count": 26,
   "metadata": {
    "collapsed": false
   },
   "outputs": [],
   "source": [
    "tf.reset_default_graph()"
   ]
  },
  {
   "cell_type": "code",
   "execution_count": 27,
   "metadata": {
    "collapsed": true
   },
   "outputs": [],
   "source": [
    "X = tf.placeholder(tf.float32, [None, n_features])\n"
   ]
  },
  {
   "cell_type": "code",
   "execution_count": 28,
   "metadata": {
    "collapsed": true
   },
   "outputs": [],
   "source": [
    "X_tensor = tf.reshape(X, [-1, 28, 28, 1])"
   ]
  },
  {
   "cell_type": "code",
   "execution_count": 29,
   "metadata": {
    "collapsed": true
   },
   "outputs": [],
   "source": [
    "n_filters = [16,16,16]\n",
    "filter_sizes = [4,4,4]"
   ]
  },
  {
   "cell_type": "code",
   "execution_count": 30,
   "metadata": {
    "collapsed": false
   },
   "outputs": [],
   "source": [
    "current_input = X_tensor\n",
    "\n",
    "n_input = 1\n",
    "Ws = []\n",
    "shapes = []\n",
    "\n",
    "for layer_i, n_output in enumerate(n_filters):\n",
    "   with tf.variable_scope(\"encoder/layer/{}\".format(layer_i)):\n",
    "        shapes.append(current_input.get_shape().as_list())\n",
    "        \n",
    "        W = tf.get_variable(\n",
    "                name='W',\n",
    "                shape=[\n",
    "                    filter_sizes[layer_i],\n",
    "                    filter_sizes[layer_i],\n",
    "                    n_input,\n",
    "                    n_output],\n",
    "                initializer=tf.random_normal_initializer(mean=0.0, stddev=0.02))\n",
    "        h = tf.nn.conv2d(current_input, W, strides = [1,2,2,1], padding='SAME')\n",
    "        \n",
    "        current_input = tf.nn.relu(h)\n",
    "        \n",
    "        Ws.append(W)\n",
    "        \n",
    "        n_input = n_output"
   ]
  },
  {
   "cell_type": "code",
   "execution_count": 31,
   "metadata": {
    "collapsed": false
   },
   "outputs": [
    {
     "name": "stdout",
     "output_type": "stream",
     "text": [
      "[16, 16, 1]\n",
      "[4, 4, 4]\n",
      "[[None, 7, 7, 16], [None, 14, 14, 16], [None, 28, 28, 1]]\n"
     ]
    }
   ],
   "source": [
    "Ws.reverse()\n",
    "shapes.reverse()\n",
    "n_filters.reverse()\n",
    "n_filters  = n_filters[1:] + [1]\n",
    "print(n_filters)\n",
    "print(filter_sizes)\n",
    "print(shapes)"
   ]
  },
  {
   "cell_type": "code",
   "execution_count": 32,
   "metadata": {
    "collapsed": false
   },
   "outputs": [],
   "source": [
    "for layer_i, shape in enumerate(shapes):\n",
    "    \n",
    "    with tf.variable_scope(\"decoder/layer/{}\".format(layer_i)):\n",
    "        W = Ws[layer_i]\n",
    "        h = tf.nn.conv2d_transpose(current_input, W,\n",
    "                    tf.pack([tf.shape(X)[0], shape[1],shape[2], shape[3]]),\n",
    "                    strides=[1,2,2,1], padding='SAME')\n",
    "        \n",
    "        current_input = tf.nn.relu(h)"
   ]
  },
  {
   "cell_type": "code",
   "execution_count": 33,
   "metadata": {
    "collapsed": true
   },
   "outputs": [],
   "source": [
    "Y = current_input\n",
    "Y = tf.reshape(Y, [-1, n_features])"
   ]
  },
  {
   "cell_type": "code",
   "execution_count": 40,
   "metadata": {
    "collapsed": false
   },
   "outputs": [
    {
     "name": "stdout",
     "output_type": "stream",
     "text": [
      "9 0.025799\n",
      "9 0.0259602\n",
      "9 0.0251556\n",
      "9 0.0256113\n",
      "9 0.0257352\n"
     ]
    },
    {
     "data": {
      "image/png": "[encoded data removed]",
      "text/plain": [
       "<matplotlib.figure.Figure at 0x1138648d0>"
      ]
     },
     "metadata": {},
     "output_type": "display_data"
    }
   ],
   "source": [
    "cost = tf.reduce_mean(tf.reduce_mean(tf.squared_difference(X, Y), 1))\n",
    "learning_rate = 0.001\n",
    "optimizer = tf.train.AdamOptimizer(learning_rate).minimize(cost)\n",
    "sess = tf.Session()\n",
    "sess.run(tf.global_variables_initializer())\n",
    "\n",
    "batch_size = 100\n",
    "n_epochs = 5\n",
    "\n",
    "examples = ds.X[:100]\n",
    "\n",
    "imgs = []\n",
    "fig, ax = plt.subplots(1, 1)\n",
    "for epoch_i in range(n_epochs):\n",
    "    for batch_X, _ in ds.train.next_batch():\n",
    "        sess.run(optimizer , feed_dict ={X: batch_X - mean_img})\n",
    "    recon = sess.run(Y, feed_dict = {X: examples - mean_img})\n",
    "    recon = np.clip((recon + mean_img).reshape((-1,28,28)), 0, 255)\n",
    "    img_i = montage(recon).astype(np.uint8)\n",
    "    imgs.append(img_i)\n",
    "    ax.imshow(img_i, cmap='gray')\n",
    "    fig.canvas.draw()\n",
    "    print(epoch_i, sess.run(cost, feed_dict={X: batch_X - mean_img}))"
   ]
  },
  {
   "cell_type": "code",
   "execution_count": 42,
   "metadata": {
    "collapsed": false
   },
   "outputs": [
    {
     "data": {
      "text/plain": [
       "<matplotlib.animation.ArtistAnimation at 0x1146c1dd8>"
      ]
     },
     "execution_count": 42,
     "metadata": {},
     "output_type": "execute_result"
    },
    {
     "data": {
      "image/png": "[encoded data removed]",
      "text/plain": [
       "<matplotlib.figure.Figure at 0x114bdc710>"
      ]
     },
     "metadata": {},
     "output_type": "display_data"
    }
   ],
   "source": [
    "gif.build_gif(imgs, saveto ='conv-ae.gif', cmap='gray')"
   ]
  },
  {
   "cell_type": "code",
   "execution_count": 44,
   "metadata": {
    "collapsed": false
   },
   "outputs": [
    {
     "data": {
      "text/html": [
       "<img src=\"conv-ae.gif?0.2043351259524715\" width=\"500\" height=\"500\"/>"
      ],
      "text/plain": [
       "<IPython.core.display.Image object>"
      ]
     },
     "execution_count": 44,
     "metadata": {},
     "output_type": "execute_result"
    }
   ],
   "source": [
    "ipyd.Image(url='conv-ae.gif?{}'.format(np.random.rand()),\n",
    "          height=500, width=500)"
   ]
  },
  {
   "cell_type": "code",
   "execution_count": 4,
   "metadata": {
    "collapsed": true
   },
   "outputs": [],
   "source": [
    "from libs import datasets"
   ]
  },
  {
   "cell_type": "code",
   "execution_count": 5,
   "metadata": {
    "collapsed": false
   },
   "outputs": [
    {
     "name": "stdout",
     "output_type": "stream",
     "text": [
      "Extracting MNIST_data/train-images-idx3-ubyte.gz\n",
      "Extracting MNIST_data/train-labels-idx1-ubyte.gz\n",
      "Extracting MNIST_data/t10k-images-idx3-ubyte.gz\n",
      "Extracting MNIST_data/t10k-labels-idx1-ubyte.gz\n",
      "1\n"
     ]
    },
    {
     "data": {
      "text/plain": [
       "<matplotlib.image.AxesImage at 0x124ef8d30>"
      ]
     },
     "execution_count": 5,
     "metadata": {},
     "output_type": "execute_result"
    },
    {
     "data": {
      "image/png": "[encoded data removed]",
      "text/plain": [
       "<matplotlib.figure.Figure at 0x124e582e8>"
      ]
     },
     "metadata": {},
     "output_type": "display_data"
    }
   ],
   "source": [
    "ds = datasets.MNIST(one_hot=False)\n",
    "print(ds.Y[0])\n",
    "plt.imshow(np.reshape(ds.X[0], (28,28)), cmap='gray')"
   ]
  },
  {
   "cell_type": "code",
   "execution_count": 6,
   "metadata": {
    "collapsed": false
   },
   "outputs": [
    {
     "name": "stdout",
     "output_type": "stream",
     "text": [
      "5\n"
     ]
    },
    {
     "data": {
      "text/plain": [
       "<matplotlib.image.AxesImage at 0x124fc3d30>"
      ]
     },
     "execution_count": 6,
     "metadata": {},
     "output_type": "execute_result"
    },
    {
     "data": {
      "image/png": "[encoded data removed]",
      "text/plain": [
       "<matplotlib.figure.Figure at 0x124f31ba8>"
      ]
     },
     "metadata": {},
     "output_type": "display_data"
    }
   ],
   "source": [
    "plt.figure()\n",
    "print(ds.Y[1])\n",
    "plt.imshow(np.reshape(ds.X[1],(28,28)),cmap='gray')"
   ]
  },
  {
   "cell_type": "code",
   "execution_count": 7,
   "metadata": {
    "collapsed": false
   },
   "outputs": [
    {
     "name": "stdout",
     "output_type": "stream",
     "text": [
      "Extracting MNIST_data/train-images-idx3-ubyte.gz\n",
      "Extracting MNIST_data/train-labels-idx1-ubyte.gz\n",
      "Extracting MNIST_data/t10k-images-idx3-ubyte.gz\n",
      "Extracting MNIST_data/t10k-labels-idx1-ubyte.gz\n",
      "[ 0.  0.  0.  1.  0.  0.  0.  0.  0.  0.]\n",
      "[ 0.  1.  0.  0.  0.  0.  0.  0.  0.  0.]\n"
     ]
    },
    {
     "data": {
      "image/png": "[encoded data removed]",
      "text/plain": [
       "<matplotlib.figure.Figure at 0x124fded68>"
      ]
     },
     "metadata": {},
     "output_type": "display_data"
    }
   ],
   "source": [
    "ds = datasets.MNIST(one_hot=True)\n",
    "plt.figure()\n",
    "plt.imshow(np.reshape(ds.X[0], (28,28)), cmap='gray')\n",
    "print(ds.Y[0])\n",
    "\n",
    "plt.imshow(np.reshape(ds.X[1],(28,28)),cmap='gray')\n",
    "print(ds.Y[1])"
   ]
  },
  {
   "cell_type": "code",
   "execution_count": 8,
   "metadata": {
    "collapsed": false
   },
   "outputs": [
    {
     "name": "stdout",
     "output_type": "stream",
     "text": [
      "(70000, 784)\n"
     ]
    }
   ],
   "source": [
    "print(ds.X.shape)"
   ]
  },
  {
   "cell_type": "code",
   "execution_count": 9,
   "metadata": {
    "collapsed": false
   },
   "outputs": [
    {
     "name": "stdout",
     "output_type": "stream",
     "text": [
      "(70000, 10)\n",
      "[ 0.  0.  0.  1.  0.  0.  0.  0.  0.  0.]\n"
     ]
    }
   ],
   "source": [
    "print(ds.Y.shape)\n",
    "print(ds.Y[0])"
   ]
  },
  {
   "cell_type": "code",
   "execution_count": 10,
   "metadata": {
    "collapsed": false
   },
   "outputs": [
    {
     "name": "stdout",
     "output_type": "stream",
     "text": [
      "Extracting MNIST_data/train-images-idx3-ubyte.gz\n",
      "Extracting MNIST_data/train-labels-idx1-ubyte.gz\n",
      "Extracting MNIST_data/t10k-images-idx3-ubyte.gz\n",
      "Extracting MNIST_data/t10k-labels-idx1-ubyte.gz\n"
     ]
    }
   ],
   "source": [
    "import tensorflow as tf\n",
    "from libs import datasets\n",
    "ds = datasets.MNIST(split=[0.8, 0.1, 0.1])\n",
    "n_input = 28*28"
   ]
  },
  {
   "cell_type": "code",
   "execution_count": 11,
   "metadata": {
    "collapsed": true
   },
   "outputs": [],
   "source": [
    "n_output = 10"
   ]
  },
  {
   "cell_type": "code",
   "execution_count": 12,
   "metadata": {
    "collapsed": true
   },
   "outputs": [],
   "source": [
    "X = tf.placeholder(tf.float32, [None, n_input])\n",
    "Y = tf.placeholder(tf.float32, [None, n_output])"
   ]
  },
  {
   "cell_type": "code",
   "execution_count": 13,
   "metadata": {
    "collapsed": true
   },
   "outputs": [],
   "source": [
    "from libs import utils\n",
    "Y_pred, W = utils.linear(\n",
    "                        x=X,\n",
    "                        n_output=n_output,\n",
    "                        activation=tf.nn.softmax,\n",
    "                        name='layer1')"
   ]
  },
  {
   "cell_type": "code",
   "execution_count": 14,
   "metadata": {
    "collapsed": true
   },
   "outputs": [],
   "source": [
    "cross_entropy = -tf.reduce_sum(Y*tf.log(Y_pred + 1e-12))\n",
    "optimizer = tf.train.AdamOptimizer(0.001).minimize(cross_entropy)"
   ]
  },
  {
   "cell_type": "code",
   "execution_count": 15,
   "metadata": {
    "collapsed": true
   },
   "outputs": [],
   "source": [
    "predicted_y = tf.argmax(Y_pred, 1)\n",
    "actual_y = tf.argmax(Y,1)"
   ]
  },
  {
   "cell_type": "code",
   "execution_count": 16,
   "metadata": {
    "collapsed": true
   },
   "outputs": [],
   "source": [
    "correct_prediction = tf.equal(predicted_y, actual_y)\n",
    "accuracy = tf.reduce_mean(tf.cast(correct_prediction, \"float\"))"
   ]
  },
  {
   "cell_type": "code",
   "execution_count": 17,
   "metadata": {
    "collapsed": false
   },
   "outputs": [
    {
     "name": "stdout",
     "output_type": "stream",
     "text": [
      "0.894\n",
      "0.905857\n",
      "0.909\n",
      "0.914286\n",
      "0.915286\n",
      "0.922857\n"
     ]
    }
   ],
   "source": [
    "sess = tf.Session()\n",
    "sess.run(tf.global_variables_initializer())\n",
    "\n",
    "batch_size = 50\n",
    "n_epochs = 5\n",
    "for epoch_i in range(n_epochs):\n",
    "    for batch_xs, batch_ys in ds.train.next_batch():\n",
    "        sess.run(optimizer, feed_dict={X: batch_xs, Y:batch_ys})\n",
    "    \n",
    "    valid = ds.valid\n",
    "    print(sess.run(accuracy, feed_dict={X:valid.images, Y:valid.labels}))\n",
    "    \n",
    "test = ds.test\n",
    "print(sess.run(accuracy, feed_dict={X:test.images, Y: test.labels}))"
   ]
  },
  {
   "cell_type": "code",
   "execution_count": 18,
   "metadata": {
    "collapsed": false
   },
   "outputs": [
    {
     "data": {
      "text/plain": [
       "['Placeholder',\n",
       " 'Placeholder_1',\n",
       " 'layer1/W',\n",
       " 'layer1/W/Initializer/random_uniform/shape',\n",
       " 'layer1/W/Initializer/random_uniform/min',\n",
       " 'layer1/W/Initializer/random_uniform/max',\n",
       " 'layer1/W/Initializer/random_uniform/RandomUniform',\n",
       " 'layer1/W/Initializer/random_uniform/sub',\n",
       " 'layer1/W/Initializer/random_uniform/mul',\n",
       " 'layer1/W/Initializer/random_uniform',\n",
       " 'layer1/W/Assign',\n",
       " 'layer1/W/read',\n",
       " 'layer1/b',\n",
       " 'layer1/b/Initializer/Const',\n",
       " 'layer1/b/Assign',\n",
       " 'layer1/b/read',\n",
       " 'layer1/MatMul',\n",
       " 'layer1/h',\n",
       " 'layer1/Softmax',\n",
       " 'add/y',\n",
       " 'add',\n",
       " 'Log',\n",
       " 'mul',\n",
       " 'Const',\n",
       " 'Sum',\n",
       " 'Neg',\n",
       " 'gradients/Shape',\n",
       " 'gradients/Const',\n",
       " 'gradients/Fill',\n",
       " 'gradients/Neg_grad/Neg',\n",
       " 'gradients/Sum_grad/Reshape/shape',\n",
       " 'gradients/Sum_grad/Reshape',\n",
       " 'gradients/Sum_grad/Shape',\n",
       " 'gradients/Sum_grad/Tile',\n",
       " 'gradients/mul_grad/Shape',\n",
       " 'gradients/mul_grad/Shape_1',\n",
       " 'gradients/mul_grad/BroadcastGradientArgs',\n",
       " 'gradients/mul_grad/mul',\n",
       " 'gradients/mul_grad/Sum',\n",
       " 'gradients/mul_grad/Reshape',\n",
       " 'gradients/mul_grad/mul_1',\n",
       " 'gradients/mul_grad/Sum_1',\n",
       " 'gradients/mul_grad/Reshape_1',\n",
       " 'gradients/mul_grad/tuple/group_deps',\n",
       " 'gradients/mul_grad/tuple/control_dependency',\n",
       " 'gradients/mul_grad/tuple/control_dependency_1',\n",
       " 'gradients/Log_grad/Reciprocal',\n",
       " 'gradients/Log_grad/mul',\n",
       " 'gradients/add_grad/Shape',\n",
       " 'gradients/add_grad/Shape_1',\n",
       " 'gradients/add_grad/BroadcastGradientArgs',\n",
       " 'gradients/add_grad/Sum',\n",
       " 'gradients/add_grad/Reshape',\n",
       " 'gradients/add_grad/Sum_1',\n",
       " 'gradients/add_grad/Reshape_1',\n",
       " 'gradients/add_grad/tuple/group_deps',\n",
       " 'gradients/add_grad/tuple/control_dependency',\n",
       " 'gradients/add_grad/tuple/control_dependency_1',\n",
       " 'gradients/layer1/Softmax_grad/mul',\n",
       " 'gradients/layer1/Softmax_grad/Sum/reduction_indices',\n",
       " 'gradients/layer1/Softmax_grad/Sum',\n",
       " 'gradients/layer1/Softmax_grad/Reshape/shape',\n",
       " 'gradients/layer1/Softmax_grad/Reshape',\n",
       " 'gradients/layer1/Softmax_grad/sub',\n",
       " 'gradients/layer1/Softmax_grad/mul_1',\n",
       " 'gradients/layer1/h_grad/BiasAddGrad',\n",
       " 'gradients/layer1/h_grad/tuple/group_deps',\n",
       " 'gradients/layer1/h_grad/tuple/control_dependency',\n",
       " 'gradients/layer1/h_grad/tuple/control_dependency_1',\n",
       " 'gradients/layer1/MatMul_grad/MatMul',\n",
       " 'gradients/layer1/MatMul_grad/MatMul_1',\n",
       " 'gradients/layer1/MatMul_grad/tuple/group_deps',\n",
       " 'gradients/layer1/MatMul_grad/tuple/control_dependency',\n",
       " 'gradients/layer1/MatMul_grad/tuple/control_dependency_1',\n",
       " 'beta1_power/initial_value',\n",
       " 'beta1_power',\n",
       " 'beta1_power/Assign',\n",
       " 'beta1_power/read',\n",
       " 'beta2_power/initial_value',\n",
       " 'beta2_power',\n",
       " 'beta2_power/Assign',\n",
       " 'beta2_power/read',\n",
       " 'zeros',\n",
       " 'layer1/W/Adam',\n",
       " 'layer1/W/Adam/Assign',\n",
       " 'layer1/W/Adam/read',\n",
       " 'zeros_1',\n",
       " 'layer1/W/Adam_1',\n",
       " 'layer1/W/Adam_1/Assign',\n",
       " 'layer1/W/Adam_1/read',\n",
       " 'zeros_2',\n",
       " 'layer1/b/Adam',\n",
       " 'layer1/b/Adam/Assign',\n",
       " 'layer1/b/Adam/read',\n",
       " 'zeros_3',\n",
       " 'layer1/b/Adam_1',\n",
       " 'layer1/b/Adam_1/Assign',\n",
       " 'layer1/b/Adam_1/read',\n",
       " 'Adam/learning_rate',\n",
       " 'Adam/beta1',\n",
       " 'Adam/beta2',\n",
       " 'Adam/epsilon',\n",
       " 'Adam/update_layer1/W/ApplyAdam',\n",
       " 'Adam/update_layer1/b/ApplyAdam',\n",
       " 'Adam/mul',\n",
       " 'Adam/Assign',\n",
       " 'Adam/mul_1',\n",
       " 'Adam/Assign_1',\n",
       " 'Adam',\n",
       " 'ArgMax/dimension',\n",
       " 'ArgMax',\n",
       " 'ArgMax_1/dimension',\n",
       " 'ArgMax_1',\n",
       " 'Equal',\n",
       " 'Cast',\n",
       " 'Const_1',\n",
       " 'Mean',\n",
       " 'init']"
      ]
     },
     "execution_count": 18,
     "metadata": {},
     "output_type": "execute_result"
    }
   ],
   "source": [
    "g = tf.get_default_graph()\n",
    "\n",
    "[op.name for op in g.get_operations()]"
   ]
  },
  {
   "cell_type": "code",
   "execution_count": 19,
   "metadata": {
    "collapsed": true
   },
   "outputs": [],
   "source": [
    "W = g.get_tensor_by_name('layer1/W:0')"
   ]
  },
  {
   "cell_type": "code",
   "execution_count": 21,
   "metadata": {
    "collapsed": false
   },
   "outputs": [
    {
     "name": "stdout",
     "output_type": "stream",
     "text": [
      "(784, 10)\n"
     ]
    }
   ],
   "source": [
    "W_arr = np.array(W.eval(session=sess))\n",
    "print(W_arr.shape)"
   ]
  },
  {
   "cell_type": "code",
   "execution_count": 22,
   "metadata": {
    "collapsed": false
   },
   "outputs": [
    {
     "data": {
      "image/png": "[encoded data removed]",
      "text/plain": [
       "<matplotlib.figure.Figure at 0x127fe5550>"
      ]
     },
     "metadata": {},
     "output_type": "display_data"
    }
   ],
   "source": [
    "fig, ax = plt.subplots(1, 10, figsize=(20, 3))\n",
    "for col_i in range(10):\n",
    "    ax[col_i].imshow(W_arr[:, col_i].reshape((28,28)), cmap='coolwarm')"
   ]
  },
  {
   "cell_type": "code",
   "execution_count": 24,
   "metadata": {
    "collapsed": false
   },
   "outputs": [],
   "source": [
    "from tensorflow.python.framework.ops import reset_default_graph\n",
    "reset_default_graph()"
   ]
  },
  {
   "cell_type": "code",
   "execution_count": 25,
   "metadata": {
    "collapsed": false
   },
   "outputs": [
    {
     "data": {
      "text/plain": [
       "[]"
      ]
     },
     "execution_count": 25,
     "metadata": {},
     "output_type": "execute_result"
    }
   ],
   "source": [
    "g = tf.get_default_graph()\n",
    "[op.name for op in g.get_operations()]"
   ]
  },
  {
   "cell_type": "code",
   "execution_count": 26,
   "metadata": {
    "collapsed": false
   },
   "outputs": [
    {
     "name": "stdout",
     "output_type": "stream",
     "text": [
      "Extracting MNIST_data/train-images-idx3-ubyte.gz\n",
      "Extracting MNIST_data/train-labels-idx1-ubyte.gz\n",
      "Extracting MNIST_data/t10k-images-idx3-ubyte.gz\n",
      "Extracting MNIST_data/t10k-labels-idx1-ubyte.gz\n"
     ]
    }
   ],
   "source": [
    "ds = datasets.MNIST(one_hot=True, split=[0.8, 0.1, 0.1])\n",
    "X = tf.placeholder(tf.float32, [None, 784])\n",
    "Y = tf.placeholder(tf.float32, [None, 10])"
   ]
  },
  {
   "cell_type": "code",
   "execution_count": 27,
   "metadata": {
    "collapsed": true
   },
   "outputs": [],
   "source": [
    "X_tensor = tf.reshape(X, [-1, 28, 28, 1])"
   ]
  },
  {
   "cell_type": "code",
   "execution_count": 28,
   "metadata": {
    "collapsed": true
   },
   "outputs": [],
   "source": [
    "filter_size = 5\n",
    "n_filters_in = 1\n",
    "n_filters_out = 32\n",
    "W_1 = tf.get_variable(\n",
    "            name='W',\n",
    "            shape=[filter_size, filter_size, n_filters_in, n_filters_out],\n",
    "            initializer=tf.random_normal_initializer())"
   ]
  },
  {
   "cell_type": "code",
   "execution_count": 30,
   "metadata": {
    "collapsed": false
   },
   "outputs": [],
   "source": [
    "b_1 = tf.get_variable(\n",
    "            name='b',\n",
    "            shape=[n_filters_out],\n",
    "            initializer=tf.constant_initializer())"
   ]
  },
  {
   "cell_type": "code",
   "execution_count": 31,
   "metadata": {
    "collapsed": true
   },
   "outputs": [],
   "source": [
    "h_1 = tf.nn.relu(\n",
    "            tf.nn.bias_add(\n",
    "                    tf.nn.conv2d(input=X_tensor,\n",
    "                                 filter=W_1,\n",
    "                                 strides=[1,2,2,1],\n",
    "                                 padding='SAME'),\n",
    "                    b_1))"
   ]
  },
  {
   "cell_type": "code",
   "execution_count": null,
   "metadata": {
    "collapsed": true
   },
   "outputs": [],
   "source": [
    "n_filters_in =32\n",
    "n_filters_out = 64"
   ]
  }
 ],
 "metadata": {
  "kernelspec": {
   "display_name": "Python 3",
   "language": "python",
   "name": "python3"
  },
  "language_info": {
   "codemirror_mode": {
    "name": "ipython",
    "version": 3
   },
   "file_extension": ".py",
   "mimetype": "text/x-python",
   "name": "python",
   "nbconvert_exporter": "python",
   "pygments_lexer": "ipython3",
   "version": "3.5.2"
  }
 },
 "nbformat": 4,
 "nbformat_minor": 2
}
