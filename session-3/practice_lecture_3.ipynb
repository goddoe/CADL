{
 "cells": [
  {
   "cell_type": "code",
   "execution_count": 35,
   "metadata": {
    "collapsed": false
   },
   "outputs": [
    {
     "data": {
      "text/html": [
       "<style> .rendered_html code { \n",
       "    padding: 2px 4px;\n",
       "    color: #c7254e;\n",
       "    background-color: #f9f2f4;\n",
       "    border-radius: 4px;\n",
       "} </style>"
      ],
      "text/plain": [
       "<IPython.core.display.HTML object>"
      ]
     },
     "execution_count": 35,
     "metadata": {},
     "output_type": "execute_result"
    }
   ],
   "source": [
    "%matplotlib inline\n",
    "#%pylab osx\n",
    "import tensorflow as tf\n",
    "import numpy as np\n",
    "import matplotlib.pyplot as plt\n",
    "import matplotlib.colors as colors\n",
    "import matplotlib.cm as cmx\n",
    "\n",
    "from libs.utils import montage\n",
    "from libs import gif\n",
    "import IPython.display as ipyd\n",
    "\n",
    "plt.style.use('ggplot')\n",
    "\n",
    "from IPython.core.display import HTML\n",
    "HTML(\"\"\"<style> .rendered_html code { \n",
    "    padding: 2px 4px;\n",
    "    color: #c7254e;\n",
    "    background-color: #f9f2f4;\n",
    "    border-radius: 4px;\n",
    "} </style>\"\"\")"
   ]
  },
  {
   "cell_type": "code",
   "execution_count": 2,
   "metadata": {
    "collapsed": false
   },
   "outputs": [
    {
     "name": "stdout",
     "output_type": "stream",
     "text": [
      "Extracting MNIST_data/train-images-idx3-ubyte.gz\n",
      "Extracting MNIST_data/train-labels-idx1-ubyte.gz\n",
      "Extracting MNIST_data/t10k-images-idx3-ubyte.gz\n",
      "Extracting MNIST_data/t10k-labels-idx1-ubyte.gz\n"
     ]
    }
   ],
   "source": [
    "from libs.datasets import MNIST\n",
    "ds =MNIST()"
   ]
  },
  {
   "cell_type": "code",
   "execution_count": 3,
   "metadata": {
    "collapsed": false
   },
   "outputs": [
    {
     "name": "stdout",
     "output_type": "stream",
     "text": [
      "(70000, 784)\n"
     ]
    }
   ],
   "source": [
    "print(ds.X.shape)"
   ]
  },
  {
   "cell_type": "code",
   "execution_count": 4,
   "metadata": {
    "collapsed": false
   },
   "outputs": [
    {
     "data": {
      "text/plain": [
       "<matplotlib.image.AxesImage at 0x11ea57668>"
      ]
     },
     "execution_count": 4,
     "metadata": {},
     "output_type": "execute_result"
    }
   ],
   "source": [
    "plt.imshow(ds.X[0].reshape((28,28)))"
   ]
  },
  {
   "cell_type": "code",
   "execution_count": 5,
   "metadata": {
    "collapsed": false
   },
   "outputs": [
    {
     "data": {
      "text/plain": [
       "<matplotlib.image.AxesImage at 0x112565a90>"
      ]
     },
     "execution_count": 5,
     "metadata": {},
     "output_type": "execute_result"
    }
   ],
   "source": [
    "imgs = ds.X[:1000].reshape((-1, 28,28))\n",
    "plt.imshow(montage(imgs), cmap='gray')"
   ]
  },
  {
   "cell_type": "code",
   "execution_count": 6,
   "metadata": {
    "collapsed": false
   },
   "outputs": [
    {
     "data": {
      "text/plain": [
       "<matplotlib.image.AxesImage at 0x114388860>"
      ]
     },
     "execution_count": 6,
     "metadata": {},
     "output_type": "execute_result"
    }
   ],
   "source": [
    "mean_img = np.mean(ds.X, axis=0)\n",
    "plt.figure()\n",
    "plt.imshow(mean_img.reshape((28,28)), cmap='gray')"
   ]
  },
  {
   "cell_type": "code",
   "execution_count": 36,
   "metadata": {
    "collapsed": false
   },
   "outputs": [
    {
     "data": {
      "text/plain": [
       "<matplotlib.image.AxesImage at 0x1130e9198>"
      ]
     },
     "execution_count": 36,
     "metadata": {},
     "output_type": "execute_result"
    },
    {
     "data": {
      "image/png": "[encoded data removed]",
      "text/plain": [
       "<matplotlib.figure.Figure at 0x112554d30>"
      ]
     },
     "metadata": {},
     "output_type": "display_data"
    }
   ],
   "source": [
    "std_img = np.std(ds.X, axis= 0)\n",
    "\n",
    "plt.figure()\n",
    "plt.imshow(std_img.reshape(28,28))"
   ]
  },
  {
   "cell_type": "code",
   "execution_count": 8,
   "metadata": {
    "collapsed": true
   },
   "outputs": [],
   "source": [
    "tf.reset_default_graph()"
   ]
  },
  {
   "cell_type": "code",
   "execution_count": 9,
   "metadata": {
    "collapsed": true
   },
   "outputs": [],
   "source": [
    "dimensions = [784, 512, 256,128, 64]"
   ]
  },
  {
   "cell_type": "code",
   "execution_count": 10,
   "metadata": {
    "collapsed": true
   },
   "outputs": [],
   "source": [
    "n_features = ds.X.shape[1]"
   ]
  },
  {
   "cell_type": "code",
   "execution_count": 11,
   "metadata": {
    "collapsed": true
   },
   "outputs": [],
   "source": [
    "X = tf.placeholder(tf.float32, [None, n_features])"
   ]
  },
  {
   "cell_type": "code",
   "execution_count": 12,
   "metadata": {
    "collapsed": false
   },
   "outputs": [],
   "source": [
    "current_input = X\n",
    "n_input = n_features\n",
    "Ws = []\n",
    "bs = []\n",
    "\n",
    "for layer_i, n_output in enumerate(dimensions[1:]):\n",
    "    \n",
    "    with tf.variable_scope(\"encoder/layer/{}\".format(layer_i)):\n",
    "        W = tf.get_variable(\n",
    "            name='W',\n",
    "            shape=[n_input, n_output],\n",
    "            initializer= tf.random_normal_initializer(mean=0.0, stddev=0.02))\n",
    "        \n",
    "        b = tf.get_variable(\n",
    "            name='b',\n",
    "            shape=[n_output],\n",
    "            initializer= tf.constant_initializer())\n",
    "        \n",
    "        h = tf.add(tf.matmul(current_input, W), b)\n",
    "        \n",
    "        current_input = tf.nn.relu(h)\n",
    "        \n",
    "        Ws.append(W)\n",
    "        n_input = n_output"
   ]
  },
  {
   "cell_type": "code",
   "execution_count": 13,
   "metadata": {
    "collapsed": false
   },
   "outputs": [
    {
     "name": "stdout",
     "output_type": "stream",
     "text": [
      "(?, 64)\n"
     ]
    }
   ],
   "source": [
    "print(current_input.get_shape())"
   ]
  },
  {
   "cell_type": "code",
   "execution_count": 14,
   "metadata": {
    "collapsed": false
   },
   "outputs": [
    {
     "name": "stdout",
     "output_type": "stream",
     "text": [
      "[64, 128, 256, 512, 784]\n"
     ]
    }
   ],
   "source": [
    "Ws = Ws[::-1]\n",
    "\n",
    "dimensions = dimensions[::-1]\n",
    "print(dimensions)"
   ]
  },
  {
   "cell_type": "code",
   "execution_count": 15,
   "metadata": {
    "collapsed": false
   },
   "outputs": [],
   "source": [
    "for layer_i, n_output in enumerate(dimensions[1:]):\n",
    "    \n",
    "    with tf.variable_scope(\"decoder/layer/{}\".format(layer_i)):\n",
    "        W = tf.transpose(Ws[layer_i])\n",
    "        b = tf.get_variable(\n",
    "                name='b',\n",
    "                shape=[n_output],\n",
    "                initializer=tf.constant_initializer())\n",
    "        h = tf.add(tf.matmul(current_input, W),b)\n",
    "        \n",
    "        current_input = tf.nn.relu(h)\n",
    "        \n",
    "        n_input = n_output\n",
    "        \n",
    "        "
   ]
  },
  {
   "cell_type": "code",
   "execution_count": 16,
   "metadata": {
    "collapsed": true
   },
   "outputs": [],
   "source": [
    "Y = current_input"
   ]
  },
  {
   "cell_type": "code",
   "execution_count": 17,
   "metadata": {
    "collapsed": false
   },
   "outputs": [
    {
     "name": "stdout",
     "output_type": "stream",
     "text": [
      "(?,)\n"
     ]
    }
   ],
   "source": [
    "cost = tf.reduce_sum(tf.squared_difference(X, Y), 1)\n",
    "print(cost.get_shape())"
   ]
  },
  {
   "cell_type": "code",
   "execution_count": 18,
   "metadata": {
    "collapsed": true
   },
   "outputs": [],
   "source": [
    "cost = tf.reduce_mean(cost)"
   ]
  },
  {
   "cell_type": "code",
   "execution_count": 19,
   "metadata": {
    "collapsed": true
   },
   "outputs": [],
   "source": [
    "learning_rate = 0.0001\n",
    "optimizer = tf.train.AdamOptimizer(learning_rate).minimize(cost)"
   ]
  },
  {
   "cell_type": "code",
   "execution_count": 20,
   "metadata": {
    "collapsed": true
   },
   "outputs": [],
   "source": [
    "sess = tf.Session()\n",
    "sess.run(tf.global_variables_initializer())"
   ]
  },
  {
   "cell_type": "code",
   "execution_count": 21,
   "metadata": {
    "collapsed": false,
    "scrolled": true
   },
   "outputs": [
    {
     "name": "stdout",
     "output_type": "stream",
     "text": [
      "0 43.0955\n",
      "1 39.9587\n",
      "2 36.7251\n",
      "3 35.3313\n",
      "4 35.6194\n",
      "5 33.0402\n",
      "6 32.003\n",
      "7 31.55\n",
      "8 31.9492\n",
      "9 31.3627\n"
     ]
    }
   ],
   "source": [
    "batch_size = 100\n",
    "n_epochs = 10\n",
    "\n",
    "examples = ds.X[:100]\n",
    "\n",
    "imgs = []\n",
    "fig, ax = plt.subplots(1, 1)\n",
    "for epoch_i in range(n_epochs):\n",
    "    for batch_X, _ in ds.train. next_batch():\n",
    "        sess.run(optimizer, feed_dict = {X: batch_X - mean_img})\n",
    "    recon = sess.run(Y, feed_dict = {X: examples - mean_img})\n",
    "    recon = np.clip((recon+mean_img).reshape((-1,28,28)), 0, 255)\n",
    "    img_i = montage(recon).astype(np.uint8)\n",
    "    imgs.append(img_i)\n",
    "    ax.imshow(img_i, cmap='gray')\n",
    "    fig.canvas.draw()\n",
    "    print(epoch_i, sess.run(cost, feed_dict={X: batch_X - mean_img}))\n"
   ]
  },
  {
   "cell_type": "code",
   "execution_count": 22,
   "metadata": {
    "collapsed": false
   },
   "outputs": [
    {
     "data": {
      "text/plain": [
       "<matplotlib.animation.ArtistAnimation at 0x11564fa58>"
      ]
     },
     "execution_count": 22,
     "metadata": {},
     "output_type": "execute_result"
    }
   ],
   "source": [
    "gif.build_gif(imgs, saveto='ae.gif', cmap='gray')"
   ]
  },
  {
   "cell_type": "code",
   "execution_count": 23,
   "metadata": {
    "collapsed": false
   },
   "outputs": [
    {
     "data": {
      "text/plain": [
       "<matplotlib.image.AxesImage at 0x11558c080>"
      ]
     },
     "execution_count": 23,
     "metadata": {},
     "output_type": "execute_result"
    }
   ],
   "source": [
    "plt.imshow(imgs[9],cmap='gray')"
   ]
  },
  {
   "cell_type": "code",
   "execution_count": 24,
   "metadata": {
    "collapsed": false
   },
   "outputs": [
    {
     "data": {
      "text/html": [
       "<img src=\"ae.gif?0.7423001412908403\" width=\"500\" height=\"500\"/>"
      ],
      "text/plain": [
       "<IPython.core.display.Image object>"
      ]
     },
     "execution_count": 24,
     "metadata": {},
     "output_type": "execute_result"
    }
   ],
   "source": [
    "ipyd.Image(url='ae.gif?{}'.format(np.random.rand()),\n",
    "          height=500, width=500)"
   ]
  },
  {
   "cell_type": "code",
   "execution_count": 26,
   "metadata": {
    "collapsed": false
   },
   "outputs": [],
   "source": [
    "tf.reset_default_graph()"
   ]
  },
  {
   "cell_type": "code",
   "execution_count": 27,
   "metadata": {
    "collapsed": true
   },
   "outputs": [],
   "source": [
    "X = tf.placeholder(tf.float32, [None, n_features])\n"
   ]
  },
  {
   "cell_type": "code",
   "execution_count": 28,
   "metadata": {
    "collapsed": true
   },
   "outputs": [],
   "source": [
    "X_tensor = tf.reshape(X, [-1, 28, 28, 1])"
   ]
  },
  {
   "cell_type": "code",
   "execution_count": 29,
   "metadata": {
    "collapsed": true
   },
   "outputs": [],
   "source": [
    "n_filters = [16,16,16]\n",
    "filter_sizes = [4,4,4]"
   ]
  },
  {
   "cell_type": "code",
   "execution_count": 30,
   "metadata": {
    "collapsed": false
   },
   "outputs": [],
   "source": [
    "current_input = X_tensor\n",
    "\n",
    "n_input = 1\n",
    "Ws = []\n",
    "shapes = []\n",
    "\n",
    "for layer_i, n_output in enumerate(n_filters):\n",
    "   with tf.variable_scope(\"encoder/layer/{}\".format(layer_i)):\n",
    "        shapes.append(current_input.get_shape().as_list())\n",
    "        \n",
    "        W = tf.get_variable(\n",
    "                name='W',\n",
    "                shape=[\n",
    "                    filter_sizes[layer_i],\n",
    "                    filter_sizes[layer_i],\n",
    "                    n_input,\n",
    "                    n_output],\n",
    "                initializer=tf.random_normal_initializer(mean=0.0, stddev=0.02))\n",
    "        h = tf.nn.conv2d(current_input, W, strides = [1,2,2,1], padding='SAME')\n",
    "        \n",
    "        current_input = tf.nn.relu(h)\n",
    "        \n",
    "        Ws.append(W)\n",
    "        \n",
    "        n_input = n_output"
   ]
  },
  {
   "cell_type": "code",
   "execution_count": 31,
   "metadata": {
    "collapsed": false
   },
   "outputs": [
    {
     "name": "stdout",
     "output_type": "stream",
     "text": [
      "[16, 16, 1]\n",
      "[4, 4, 4]\n",
      "[[None, 7, 7, 16], [None, 14, 14, 16], [None, 28, 28, 1]]\n"
     ]
    }
   ],
   "source": [
    "Ws.reverse()\n",
    "shapes.reverse()\n",
    "n_filters.reverse()\n",
    "n_filters  = n_filters[1:] + [1]\n",
    "print(n_filters)\n",
    "print(filter_sizes)\n",
    "print(shapes)"
   ]
  },
  {
   "cell_type": "code",
   "execution_count": 32,
   "metadata": {
    "collapsed": false
   },
   "outputs": [],
   "source": [
    "for layer_i, shape in enumerate(shapes):\n",
    "    \n",
    "    with tf.variable_scope(\"decoder/layer/{}\".format(layer_i)):\n",
    "        W = Ws[layer_i]\n",
    "        h = tf.nn.conv2d_transpose(current_input, W,\n",
    "                    tf.pack([tf.shape(X)[0], shape[1],shape[2], shape[3]]),\n",
    "                    strides=[1,2,2,1], padding='SAME')\n",
    "        \n",
    "        current_input = tf.nn.relu(h)"
   ]
  },
  {
   "cell_type": "code",
   "execution_count": 33,
   "metadata": {
    "collapsed": true
   },
   "outputs": [],
   "source": [
    "Y = current_input\n",
    "Y = tf.reshape(Y, [-1, n_features])"
   ]
  },
  {
   "cell_type": "code",
   "execution_count": 40,
   "metadata": {
    "collapsed": false
   },
   "outputs": [
    {
     "name": "stdout",
     "output_type": "stream",
     "text": [
      "9 0.025799\n",
      "9 0.0259602\n",
      "9 0.0251556\n",
      "9 0.0256113\n",
      "9 0.0257352\n"
     ]
    },
    {
     "data": {
      "image/png": "[encoded data removed]",
      "text/plain": [
       "<matplotlib.figure.Figure at 0x1138648d0>"
      ]
     },
     "metadata": {},
     "output_type": "display_data"
    }
   ],
   "source": [
    "cost = tf.reduce_mean(tf.reduce_mean(tf.squared_difference(X, Y), 1))\n",
    "learning_rate = 0.001\n",
    "optimizer = tf.train.AdamOptimizer(learning_rate).minimize(cost)\n",
    "sess = tf.Session()\n",
    "sess.run(tf.global_variables_initializer())\n",
    "\n",
    "batch_size = 100\n",
    "n_epochs = 5\n",
    "\n",
    "examples = ds.X[:100]\n",
    "\n",
    "imgs = []\n",
    "fig, ax = plt.subplots(1, 1)\n",
    "for epoch_i in range(n_epochs):\n",
    "    for batch_X, _ in ds.train.next_batch():\n",
    "        sess.run(optimizer , feed_dict ={X: batch_X - mean_img})\n",
    "    recon = sess.run(Y, feed_dict = {X: examples - mean_img})\n",
    "    recon = np.clip((recon + mean_img).reshape((-1,28,28)), 0, 255)\n",
    "    img_i = montage(recon).astype(np.uint8)\n",
    "    imgs.append(img_i)\n",
    "    ax.imshow(img_i, cmap='gray')\n",
    "    fig.canvas.draw()\n",
    "    print(epoch_i, sess.run(cost, feed_dict={X: batch_X - mean_img}))"
   ]
  },
  {
   "cell_type": "code",
   "execution_count": 42,
   "metadata": {
    "collapsed": false
   },
   "outputs": [
    {
     "data": {
      "text/plain": [
       "<matplotlib.animation.ArtistAnimation at 0x1146c1dd8>"
      ]
     },
     "execution_count": 42,
     "metadata": {},
     "output_type": "execute_result"
    },
    {
     "data": {
      "image/png": "[encoded data removed]",
      "text/plain": [
       "<matplotlib.figure.Figure at 0x114bdc710>"
      ]
     },
     "metadata": {},
     "output_type": "display_data"
    }
   ],
   "source": [
    "gif.build_gif(imgs, saveto ='conv-ae.gif', cmap='gray')"
   ]
  },
  {
   "cell_type": "code",
   "execution_count": 44,
   "metadata": {
    "collapsed": false
   },
   "outputs": [
    {
     "data": {
      "text/html": [
       "<img src=\"conv-ae.gif?0.2043351259524715\" width=\"500\" height=\"500\"/>"
      ],
      "text/plain": [
       "<IPython.core.display.Image object>"
      ]
     },
     "execution_count": 44,
     "metadata": {},
     "output_type": "execute_result"
    }
   ],
   "source": [
    "ipyd.Image(url='conv-ae.gif?{}'.format(np.random.rand()),\n",
    "          height=500, width=500)"
   ]
  },
  {
   "cell_type": "code",
   "execution_count": null,
   "metadata": {
    "collapsed": true
   },
   "outputs": [],
   "source": []
  }
 ],
 "metadata": {
  "kernelspec": {
   "display_name": "Python 3",
   "language": "python",
   "name": "python3"
  },
  "language_info": {
   "codemirror_mode": {
    "name": "ipython",
    "version": 3
   },
   "file_extension": ".py",
   "mimetype": "text/x-python",
   "name": "python",
   "nbconvert_exporter": "python",
   "pygments_lexer": "ipython3",
   "version": "3.6.0"
  }
 },
 "nbformat": 4,
 "nbformat_minor": 2
}
